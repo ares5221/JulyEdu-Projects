{
 "cells": [
  {
   "cell_type": "markdown",
   "metadata": {},
   "source": [
    "## <Center><font color=red><b>考试题</b></font></Center>"
   ]
  },
  {
   "cell_type": "markdown",
   "metadata": {},
   "source": [
    "### 注：不要直接在这个文件上作答，需要先下载到本地,做完后进行上传,谢谢！\n",
    "* 试卷命名格式: Exam_学号.ipynb  例如：Exam_123456.ipynb\n",
    "* 试卷上传地址(请将自己的试卷存放到该地址)：http://47.93.208.249:9800/tree/0.Teacher/Online/Exam_students \n",
    "* 发布的试卷是只读模式，请下载或移动到上述地址后作答"
   ]
  },
  {
   "cell_type": "markdown",
   "metadata": {},
   "source": [
    "- 学号(双击填写):"
   ]
  },
  {
   "cell_type": "markdown",
   "metadata": {},
   "source": [
    "____"
   ]
  },
  {
   "cell_type": "markdown",
   "metadata": {},
   "source": [
    "### 选择题(5分/题, 共20题)"
   ]
  },
  {
   "cell_type": "markdown",
   "metadata": {},
   "source": [
    "<!--  -->"
   ]
  },
  {
   "cell_type": "markdown",
   "metadata": {},
   "source": [
    "\n",
    "#### 1、神经网络模型（Neural Network）因受人类大脑的启发而得名\n",
    "\n",
    "![img](https://julyedu-img-public.oss-cn-beijing.aliyuncs.com/Public/Image/Question/1512992534_845.jpg)\n",
    "\n",
    "![img](https://julyedu-img-public.oss-cn-beijing.aliyuncs.com/Public/Image/Question/1512992547_724.jpg)   \n",
    "神经网络由许多神经元（Neuron）组成，每个神经元接受一个输入，对输入进行处理后给出一个输出，如下图所示。请问下列关于神经元的描述中，哪一项是正确的？\n",
    "\n",
    "a 每个神经元可以有一个输入和一个输出\n",
    "\n",
    "b 每个神经元可以有多个输入和一个输出\n",
    "\n",
    "c 每个神经元可以有一个输入和多个输出\n",
    "\n",
    "d 每个神经元可以有多个输入和多个输出\n",
    "\n",
    "e 上述都正确"
   ]
  },
  {
   "cell_type": "markdown",
   "metadata": {},
   "source": [
    "答案：e"
   ]
  },
  {
   "cell_type": "markdown",
   "metadata": {},
   "source": [
    "#### 2、在下列哪些应用中，我们可以使用深度学习来解决问题？\n",
    "\n",
    "a 蛋白质结构预测\n",
    "\n",
    "b 化学反应的预测\n",
    "\n",
    "c 外来粒子的检测\n",
    "\n",
    "d 所有这些"
   ]
  },
  {
   "cell_type": "markdown",
   "metadata": {},
   "source": [
    "答案：d"
   ]
  },
  {
   "cell_type": "markdown",
   "metadata": {},
   "source": [
    "#### 3、假定你在神经网络中的隐藏层中使用激活函数 X。在特定神经元给定任意输入，你会得到输出「-0.0001」。X 可能是以下哪一个激活函数？\n",
    "\n",
    "a ReLU\n",
    "\n",
    "b tanh\n",
    "\n",
    "c SIGMOID\n",
    "\n",
    "d 以上都不是"
   ]
  },
  {
   "cell_type": "markdown",
   "metadata": {},
   "source": [
    "答案：b"
   ]
  },
  {
   "cell_type": "markdown",
   "metadata": {},
   "source": [
    "#### 4、对于神经网络的说法, 下面正确的是 : \n",
    "\n",
    "1. 增加神经网络层数, 可能会增加测试数据集的分类错误率\n",
    "2. 减少神经网络层数, 总是能减小测试数据集的分类错误率\n",
    "3. 增加神经网络层数, 总是能减小训练数据集的分类错误率\n",
    "\n",
    "a 1\n",
    "\n",
    "b 1 和 3\n",
    "\n",
    "c 1 和 2\n",
    "\n",
    "d 2"
   ]
  },
  {
   "cell_type": "markdown",
   "metadata": {},
   "source": [
    "答案: a"
   ]
  },
  {
   "cell_type": "markdown",
   "metadata": {},
   "source": [
    "#### 5、下面那个决策边界是神经网络生成的？![img](https://julyedu-img-public.oss-cn-beijing.aliyuncs.com/Public/Image/Question/1514017033_343.png)\n",
    "\n",
    "a A\n",
    "\n",
    "b D\n",
    "\n",
    "c C\n",
    "\n",
    "d B\n",
    "\n",
    "e 以上都对"
   ]
  },
  {
   "cell_type": "markdown",
   "metadata": {},
   "source": [
    "答案：e"
   ]
  },
  {
   "cell_type": "markdown",
   "metadata": {},
   "source": [
    "#### 6、在选择神经网络的深度时，下面哪些参数需要考虑？\n",
    "\n",
    "1 神经网络的类型(如MLP,CNN)\n",
    "\n",
    "2 输入数据\n",
    "\n",
    "3 计算能力(硬件和软件能力决定)\n",
    "\n",
    "4 学习速率\n",
    "\n",
    "5 映射的输出函数\n",
    "\n",
    "a 1,2,4,5\n",
    "\n",
    "b 2,3,4,5\n",
    "\n",
    "c 都需要考虑\n",
    "\n",
    "d 1,3,4,5"
   ]
  },
  {
   "cell_type": "markdown",
   "metadata": {},
   "source": [
    "答案：c"
   ]
  },
  {
   "cell_type": "markdown",
   "metadata": {},
   "source": [
    "#### 7、有关 TensorFlow API，以下说法中正确的是：\n",
    " \n",
    "a tf.Variable和一般编程语言中“变量（Variable）”的含义完全相同。\n",
    "\n",
    "b tf.placeholder定义的对象，对应于深度神经网络中的“超参数（Hyperparameter）”。\n",
    "\n",
    "c 通过tf.constant定义的对象，因为是常量，所以，在session.run()运行前就可以用eval()方法获得对象的值。\n",
    "\n",
    "d session.run()运行一个训练过程时，TensorFlow会使用符号执行（SymbolicExecution）对计算图进行优化。\n"
   ]
  },
  {
   "cell_type": "markdown",
   "metadata": {},
   "source": [
    "答案：d"
   ]
  },
  {
   "cell_type": "markdown",
   "metadata": {},
   "source": [
    "#### 8、深度学习中，以下哪些方法不可以降低模型过拟合？\n",
    "\n",
    "a 增加更多的样本\n",
    "\n",
    "b Dropout\n",
    "\n",
    "c 增大模型复杂度，提高在训练集上的效果\n",
    "\n",
    "d 增加参数惩罚"
   ]
  },
  {
   "cell_type": "markdown",
   "metadata": {},
   "source": [
    "答案：c"
   ]
  },
  {
   "cell_type": "markdown",
   "metadata": {},
   "source": [
    "#### 9、相对于DNN模型，CNN模型做了哪些改变？\n",
    "\n",
    "a 局部连接、参数共享\n",
    "\n",
    "b 使用了relu激活函数\n",
    "\n",
    "c 使用了Dropout\n",
    "\n",
    "d 增加了batch normalization"
   ]
  },
  {
   "cell_type": "markdown",
   "metadata": {},
   "source": [
    "答案：a"
   ]
  },
  {
   "cell_type": "markdown",
   "metadata": {},
   "source": [
    "#### 10、在CNN网络中，一张图经过核为3x3，步长为2的卷积层，ReLU激活函数层，BN层，以及一个步长为2，核为2x2的池化层后，再经过一个3x3的的卷积层，步长为1，此时的感受野是\n",
    " \n",
    "a 10\n",
    "\n",
    "b 11\n",
    "\n",
    "c 12\n",
    "\n",
    "d 13"
   ]
  },
  {
   "cell_type": "markdown",
   "metadata": {},
   "source": [
    "答案：d"
   ]
  },
  {
   "cell_type": "markdown",
   "metadata": {},
   "source": [
    "#### 11、在卷积神经网络计算中，已知输入特征层大小为32x32x64, 使用标准卷积计算，带偏置项，卷积核大小为3x3，输出特征层数目为64，请问卷积层的参数个数为？\n",
    "a 576\n",
    "\n",
    "b 36928\n",
    "\n",
    "c 640\n",
    "\n",
    "d 36864"
   ]
  },
  {
   "cell_type": "markdown",
   "metadata": {},
   "source": [
    "答案：b"
   ]
  },
  {
   "cell_type": "markdown",
   "metadata": {},
   "source": [
    "#### 12、在一个神经网络中，下面哪种方法可以用来处理过拟合？\n",
    "a Dropout\n",
    "\n",
    "b 分批归一化(Batch Normalization)\n",
    "\n",
    "c 正则化(regularization)\n",
    "\n",
    "d 都可以"
   ]
  },
  {
   "cell_type": "markdown",
   "metadata": {},
   "source": [
    "答案：d"
   ]
  },
  {
   "cell_type": "markdown",
   "metadata": {},
   "source": [
    "#### 13、想象一下，你有一个28x28 的图片，并使用输入深度为 3 和输出深度为 8 在上面运行一个 3x3 的卷积神经网络。注意，步幅padding是1，你正在使用相同的填充（padding）。当使用给定的参数时，输出特征图的尺寸是多少？ \n",
    " \n",
    "a 28 宽、28 高、8 深 \n",
    "\n",
    "b 13 宽、13 高、8 深\n",
    "\n",
    "c 28 宽、13 高、8 深\n",
    "\n",
    "d 13 宽、28 高、8 深"
   ]
  },
  {
   "cell_type": "markdown",
   "metadata": {},
   "source": [
    "答案：a"
   ]
  },
  {
   "cell_type": "markdown",
   "metadata": {},
   "source": [
    "#### 14、生成对抗网络GAN是无监督学习的范畴？\n",
    "\n",
    "a 对\n",
    "\n",
    "b 错\n",
    "\n",
    "c 不能确定"
   ]
  },
  {
   "cell_type": "code",
   "execution_count": null,
   "metadata": {},
   "outputs": [],
   "source": []
  },
  {
   "cell_type": "markdown",
   "metadata": {},
   "source": [
    "答案：a"
   ]
  },
  {
   "cell_type": "markdown",
   "metadata": {},
   "source": [
    "#### 15、GAN的Generator和Discriminator都属于无监督学习的训练？\n",
    "\n",
    "a 对\n",
    "\n",
    "b 错\n",
    "\n",
    "c 不能确定\n"
   ]
  },
  {
   "cell_type": "markdown",
   "metadata": {},
   "source": [
    "答案：b"
   ]
  },
  {
   "cell_type": "markdown",
   "metadata": {},
   "source": [
    "#### 16、DCGAN用了什么神经网络？\n",
    "a CNN\n",
    "\n",
    "b RNN\n",
    "\n",
    "c 全连接\n",
    "\n",
    "d 以上都不是"
   ]
  },
  {
   "cell_type": "markdown",
   "metadata": {},
   "source": [
    "答案：a"
   ]
  },
  {
   "cell_type": "markdown",
   "metadata": {},
   "source": [
    "#### 17.写出神经网络中常见的激励函数(至少三个)."
   ]
  },
  {
   "cell_type": "markdown",
   "metadata": {},
   "source": [
    "答案：sigmoid relu leakrelu tanh elu maxout"
   ]
  },
  {
   "cell_type": "markdown",
   "metadata": {},
   "source": [
    "#### 18.计算下图pool池化层结果(取最大值)\n",
    "![pool%E6%B1%A0%E5%8C%96%E5%B1%82.png](attachment:pool%E6%B1%A0%E5%8C%96%E5%B1%82.png)"
   ]
  },
  {
   "cell_type": "code",
   "execution_count": null,
   "metadata": {},
   "outputs": [],
   "source": [
    "[[6, 8],\n",
    "[3, 4]]"
   ]
  },
  {
   "cell_type": "markdown",
   "metadata": {},
   "source": [
    "#### 19.写出目标检测的评价指标中Precision和Recall公式"
   ]
  },
  {
   "cell_type": "markdown",
   "metadata": {},
   "source": [
    "答案：𝑃=𝑇𝑃/(𝑇𝑃+𝐹𝑃)  𝑅=𝑇𝑃/(𝑇𝑃+𝐹𝑁) ： TP：真正例，即样本为真，预测为真； FP：假正例，即样本为假，预测为真； FN：假负例，即样本为真，预测为假；"
   ]
  },
  {
   "cell_type": "markdown",
   "metadata": {},
   "source": [
    "#### 20、计算题(提示:参数共享)"
   ]
  },
  {
   "cell_type": "markdown",
   "metadata": {
    "ExecuteTime": {
     "end_time": "2019-10-08T06:36:15.614551Z",
     "start_time": "2019-10-08T06:36:15.609786Z"
    }
   },
   "source": [
    "* Example1: 200\\*200 image(灰度图), 40K hidden units  有多少个参数?\n",
    "* Example2: 200\\*200 image(灰度图), 40K hidden units, Filter size: 10\\*10 有多少个参数?\n",
    "* Example3: 200\\*200 image(灰度图), 100 Filter, Filter size:10\\*10  有多少参数?\n",
    "* Example4: 图像尺寸为[32\\*32\\*3], 卷积窗口大小为5\\*5, 卷积模板个数为1, 有多少参数?\n",
    "* Example5: 图像尺寸为[16\\*16\\*20], 卷积窗口大小为3\\*3, 卷积模板个数为10, 有多少参数?"
   ]
  },
  {
   "cell_type": "markdown",
   "metadata": {},
   "source": [
    "答案：\n",
    "1. 40K * 200 * 200 + 40K\n",
    "2. 40K * 10 * 10 + 40K\n",
    "3. 100 * 10 * 10 + 100 = 10100\n",
    "4. 5 * 5 * 3 + 1 = 76\n",
    "5. (3 * 3 * 20 + 1) * 10 = 1810\n"
   ]
  }
 ],
 "metadata": {
  "kernelspec": {
   "display_name": "Python 3",
   "language": "python",
   "name": "python3"
  },
  "language_info": {
   "codemirror_mode": {
    "name": "ipython",
    "version": 3
   },
   "file_extension": ".py",
   "mimetype": "text/x-python",
   "name": "python",
   "nbconvert_exporter": "python",
   "pygments_lexer": "ipython3",
   "version": "3.7.6"
  }
 },
 "nbformat": 4,
 "nbformat_minor": 4
}
